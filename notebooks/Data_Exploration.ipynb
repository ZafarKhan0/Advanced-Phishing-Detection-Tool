{
 "cells": [
  {
   "cell_type": "code",
   "execution_count": null,
   "metadata": {},
   "outputs": [],
   "source": [
    "# Jupyter Notebook for Data Exploration\n",
    "# Explore data, visualize distributions, and understand data features.\n",
    "import pandas as pd\n",
    "import matplotlib.pyplot as plt\n",
    "import seaborn as sns\n",
    "\n",
    "# Load data\n",
    "phishing_data = pd.read_csv('../data/phishing.csv')\n",
    "legitimate_data = pd.read_csv('../data/legitimate.csv')\n",
    "\n",
    "# Combine data\n",
    "data = pd.concat([phishing_data, legitimate_data], ignore_index=True)\n",
    "data['label'] = data['label'].map({0: 'Legitimate', 1: 'Phishing'})\n",
    "\n",
    "# Visualize data\n",
    "sns.countplot(data['label'])\n",
    "plt.title('Distribution of Phishing and Legitimate Emails')\n",
    "plt.show()\n",
    "\n",
    "# Explore text length\n",
    "data['text_length'] = data['content'].apply(len)\n",
    "sns.histplot(data, x='text_length', hue='label', multiple='stack')\n",
    "plt.title('Text Length Distribution')\n",
    "plt.show()\n"
   ]
  }
 ],
 "metadata": {
  "language_info": {
   "name": "python"
  }
 },
 "nbformat": 4,
 "nbformat_minor": 2
}
